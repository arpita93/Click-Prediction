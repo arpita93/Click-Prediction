{
 "cells": [
  {
   "cell_type": "code",
   "execution_count": 2,
   "metadata": {},
   "outputs": [
    {
     "name": "stdout",
     "output_type": "stream",
     "text": [
      "   click   n1     n2    n3    n4      n5    n6    n7   n8     n9    ...     \\\n",
      "0      0  1.0    1.1   5.0   0.1  1382.0   4.0  15.0  2.0  181.0    ...      \n",
      "1      0  2.0    0.0  44.0   1.0   102.0   8.0   2.0  2.0    4.0    ...      \n",
      "2      0  2.0    0.0   1.0  14.0   767.0  89.0   4.0  2.0  245.0    ...      \n",
      "3      0  NaN  893.0   NaN   NaN  4392.0   NaN   0.0  0.0    0.0    ...      \n",
      "4      0  3.0   -1.0   NaN   0.0     2.0   0.0   3.0  0.0    0.0    ...      \n",
      "\n",
      "        c18       c19       c20       c21       c22          c23       c24  \\\n",
      "0  e5ba7672  f54016b9  21ddcdc9  b1252a9d  07b5194c  Unnamed: 35  3a171ecb   \n",
      "1  07c540c4  b04e4670  21ddcdc9  5840adea  60f6221e          NaN  3a171ecb   \n",
      "2  8efede7f  3412118d       NaN       NaN  e587c466     ad3062eb  3a171ecb   \n",
      "3  1e88c74f  74ef3502       NaN       NaN  6b3a5ca6          NaN  3a171ecb   \n",
      "4  1e88c74f  26b3c7a7       NaN       NaN  21c9516a          NaN  32c7478e   \n",
      "\n",
      "        c25       c26       c27  \n",
      "0  c5c50484  e8b83407  9727dd16  \n",
      "1  43f13e8b  e8b83407  731c3655  \n",
      "2  3b183c5c       NaN       NaN  \n",
      "3  9117a34a       NaN       NaN  \n",
      "4  b34f3128       NaN       NaN  \n",
      "\n",
      "[5 rows x 40 columns]\n"
     ]
    }
   ],
   "source": [
    "import pandas as pd\n",
    "\n",
    "\n",
    "df = pd.read_csv(\"train_subset.txt\",names=['click','n1','n2','n3','n4','n5','n6','n7','n8','n9','n10','n11',\\\n",
    "                                           'n12','n13','c2','c3','c4','c5','c6','c7','c8','c9','c10','c11','c12'\\\n",
    "                                          ,'c13','c14','c15','c16','c17','c18','c19','c20','c21','c22','c23','c24'\\\n",
    "                                         ,'c25','c26','c27'],header=None)\n",
    "\n",
    "print df.head()\n",
    "\n",
    "train= df.sample(frac=0.8)\n",
    "test= df.drop(train.index)\n",
    "\n",
    "train.to_csv(\"train\", encoding='utf-8',index=False)\n",
    "test.to_csv(\"test\", encoding='utf-8',index=False)"
   ]
  }
 ],
 "metadata": {
  "kernelspec": {
   "display_name": "Python 2",
   "language": "python",
   "name": "python2"
  },
  "language_info": {
   "codemirror_mode": {
    "name": "ipython",
    "version": 2
   },
   "file_extension": ".py",
   "mimetype": "text/x-python",
   "name": "python",
   "nbconvert_exporter": "python",
   "pygments_lexer": "ipython2",
   "version": "2.7.14"
  }
 },
 "nbformat": 4,
 "nbformat_minor": 2
}
